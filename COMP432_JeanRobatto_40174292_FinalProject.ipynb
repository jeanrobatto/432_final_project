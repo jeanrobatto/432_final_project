{
  "nbformat": 4,
  "nbformat_minor": 0,
  "metadata": {
    "colab": {
      "provenance": [],
      "machine_shape": "hm",
      "gpuType": "T4",
      "mount_file_id": "https://github.com/jeanrobatto/COMP432-FinalProject/blob/main/COMP432_JeanRobatto_40174292_FinalProject.ipynb",
      "authorship_tag": "ABX9TyNSE/VKcoXltpBu+xBon3BC",
      "include_colab_link": true
    },
    "kernelspec": {
      "name": "python3",
      "display_name": "Python 3"
    },
    "language_info": {
      "name": "python"
    },
    "accelerator": "GPU"
  },
  "cells": [
    {
      "cell_type": "markdown",
      "metadata": {
        "id": "view-in-github",
        "colab_type": "text"
      },
      "source": [
        "<a href=\"https://colab.research.google.com/github/jeanrobatto/COMP432-FinalProject/blob/main/COMP432_JeanRobatto_40174292_FinalProject.ipynb\" target=\"_parent\"><img src=\"https://colab.research.google.com/assets/colab-badge.svg\" alt=\"Open In Colab\"/></a>"
      ]
    },
    {
      "cell_type": "markdown",
      "source": [
        "# **COMP-432 - Final Project - EEG Decoding**"
      ],
      "metadata": {
        "id": "Vc-uocaD8L9S"
      }
    },
    {
      "cell_type": "markdown",
      "source": [
        "Author: Jean Robatto - 40174292"
      ],
      "metadata": {
        "id": "U_zS27Dq8qr3"
      }
    },
    {
      "cell_type": "markdown",
      "source": [
        "## **Abstract**"
      ],
      "metadata": {
        "id": "Zd4cBl5C8fA1"
      }
    },
    {
      "cell_type": "markdown",
      "source": [
        "Abstract here. Give an executive summary of your project: goal, methods, results, conclusions. Usually no more than 200 words."
      ],
      "metadata": {
        "id": "ysmAUu058nt7"
      }
    },
    {
      "cell_type": "markdown",
      "source": [
        "## **Introduction**"
      ],
      "metadata": {
        "id": "XPkUuRH28z4P"
      }
    },
    {
      "cell_type": "markdown",
      "source": [
        "Here you have to explain the problem that you are solving. Explain why it is important, and what are the main challenges. Mention previous attempts (add papers as references) to solve it. Mainly focus on the techniques closely related to our approach. Briefly describe your approach and explain why it is promising for solving the addressed problem. Mention the dataset and the main results achieved.\n",
        "In this section, you can add text and figures."
      ],
      "metadata": {
        "id": "uQuVcSwg83-P"
      }
    },
    {
      "cell_type": "markdown",
      "source": [
        "## **Methodology**"
      ],
      "metadata": {
        "id": "PfQuCLwE9BFT"
      }
    },
    {
      "cell_type": "markdown",
      "source": [
        "Describe the important steps you took to achieve your goal. Focus more on the most important steps (preprocessing, extra features, model aspects) that turned out to be important. Mention the original aspects of the project and state how they relate to existing work.\n",
        "In this section, you can add text and figures. For instance, it is strongly suggested to add a picture of the best machine learning model that you implemented to solve your problem (and describe it)."
      ],
      "metadata": {
        "id": "sLxdhqVO9E1a"
      }
    },
    {
      "cell_type": "markdown",
      "source": [
        "Stuff needed to run the code - benchmarks and my own python repo"
      ],
      "metadata": {
        "id": "Sz1DpzdR-6m5"
      }
    },
    {
      "cell_type": "markdown",
      "metadata": {
        "id": "bkw1jVAnpBQ9"
      },
      "source": [
        "## **Prerequisites**\n"
      ]
    },
    {
      "cell_type": "markdown",
      "source": [
        "### Download SpeechBrain-MOABB Custom Fork"
      ],
      "metadata": {
        "id": "D7Wofz40AUGz"
      }
    },
    {
      "cell_type": "markdown",
      "source": [
        "SpeechBrain-MOABB can be downloaded from the GitHub repository listed below. This short script follows the installation instructions."
      ],
      "metadata": {
        "id": "8vpod0AgBJCl"
      }
    },
    {
      "cell_type": "code",
      "source": [
        "#Original Source: https://github.com/speechbrain/benchmarks\n",
        "#Note: The following is a forked repo.\n",
        "\n",
        "%%capture\n",
        "%cd /content/\n",
        "\n",
        "!git clone https://github.com/jeanrobatto/benchmarks\n",
        "%cd /content/benchmarks\n",
        "!git submodule update --init --recursive\n",
        "%cd /content/benchmarks/speechbrain\n",
        "!pip install -r requirements.txt\n",
        "!pip install -e .\n",
        "\n",
        "\n",
        "%cd /content/benchmarks/benchmarks/MOABB\n",
        "!pip install -r ../../requirements.txt # Install base dependencies (precautionary step)\n",
        "!pip install -r extra-requirements.txt # Install additional dependencies\n",
        "\n",
        "%cd /content/"
      ],
      "metadata": {
        "id": "4jMh4ycXBcN9"
      },
      "execution_count": 1,
      "outputs": []
    },
    {
      "cell_type": "markdown",
      "source": [
        "### Set necessary ENV variables in runtime env"
      ],
      "metadata": {
        "id": "galS_8gK6DwB"
      }
    },
    {
      "cell_type": "code",
      "source": [
        "!export ORION_DB_ADDRESS=results/MotorImagery/BNCI2014001/EEGNet/hopt/EEGNet_BNCI2014001_hopt.pkl\n",
        "!export ORION_DB_TYPE=pickleddb"
      ],
      "metadata": {
        "id": "7RF2tLeJ6Iwm"
      },
      "execution_count": 2,
      "outputs": []
    },
    {
      "cell_type": "markdown",
      "source": [
        "### Test installations completed successfully"
      ],
      "metadata": {
        "id": "rg04OYiIDS_C"
      }
    },
    {
      "cell_type": "code",
      "source": [
        "!python --version\n",
        "\n",
        "%cd /content/benchmarks/benchmarks/MOABB/\n",
        "!echo 'Training dummy model...'\n",
        "!python ./train.py hparams/MotorImagery/BNCI2014001/EEGNetSingleEpoch.yaml --data_folder=eeg_data --cached_data_folder=eeg_pickled_data --output_folder=results/MotorImagery/BNCI2014001/InitialTest --target_subject_idx=0 --target_session_idx=1 --data_iterator_name=leave-one-session-out &> /dev/null\n",
        "!echo 'Training successful'\n",
        "!echo 'Environment setup successful'"
      ],
      "metadata": {
        "id": "-IxkU40YDbXh",
        "colab": {
          "base_uri": "https://localhost:8080/"
        },
        "outputId": "47fe6c37-8e20-4d3a-fe84-f2ae43624ae3"
      },
      "execution_count": 3,
      "outputs": [
        {
          "output_type": "stream",
          "name": "stdout",
          "text": [
            "Python 3.10.12\n",
            "/content/benchmarks/benchmarks/MOABB\n",
            "Training dummy model...\n",
            "Training successful\n",
            "Environment setup successful\n"
          ]
        }
      ]
    },
    {
      "cell_type": "markdown",
      "source": [
        "## **Experimental Setup**"
      ],
      "metadata": {
        "id": "9m2omL-K9ICn"
      }
    },
    {
      "cell_type": "markdown",
      "source": [
        "Describe the datasets used for your experiments. List the machine learning techniques used to solve your problem and report the corresponding hyperparameters.\n",
        "In this section, you can add text, tables, and figures."
      ],
      "metadata": {
        "id": "NNoBK8FC9L0z"
      }
    },
    {
      "cell_type": "markdown",
      "source": [
        "## **Experimental Results**"
      ],
      "metadata": {
        "id": "Zsn-yRDy9OXq"
      }
    },
    {
      "cell_type": "markdown",
      "source": [
        "Describe here the main experimental results. Critically discuss them. Compare them with results available in the literature (if applicable).\n",
        "In this section, you can add text and figures, tables, plots, and code. Make sure the code is runnable and replicable."
      ],
      "metadata": {
        "id": "EquR0ftO9OMp"
      }
    },
    {
      "cell_type": "markdown",
      "source": [
        "## **Conclusions**"
      ],
      "metadata": {
        "id": "FLG5VDWL9Vt5"
      }
    },
    {
      "cell_type": "markdown",
      "source": [
        "Summarize what you could and could not conclude based on your experiments. In this section, you can add text."
      ],
      "metadata": {
        "id": "7ukqW8Ki9YXs"
      }
    },
    {
      "cell_type": "markdown",
      "source": [
        "## **References**"
      ],
      "metadata": {
        "id": "UhO6Rukr9Zjd"
      }
    },
    {
      "cell_type": "markdown",
      "source": [
        "You can add here the citations of books, websites, or academic papers, etc."
      ],
      "metadata": {
        "id": "VMs3YCjk9cyx"
      }
    },
    {
      "cell_type": "markdown",
      "source": [
        "# Scratchpad"
      ],
      "metadata": {
        "id": "boLahRTCKToA"
      }
    },
    {
      "cell_type": "code",
      "source": [
        "# Code to try out various models\n",
        "\n",
        "%cd /content/benchmarks/benchmarks/MOABB/\n",
        "#!python ./train.py hparams/MotorImagery/BNCI2014001/EEGNet.yaml --data_folder=eeg_data --cached_data_folder=eeg_pickled_data --output_folder=results/MotorImagery/BNCI2014001/EegNetTrain2 --target_subject_idx=0 --target_session_idx=1 --data_iterator_name=leave-one-session-out\n",
        "#!python utils/parse_results.py results/MotorImagery/BNCI2014001/EegNetTrain2 test_metrics.pkl acc loss f1\n",
        "\n",
        "!cp -r /content/benchmarks/benchmarks/MOABB/results /content/drive/MyDrive/COMP432/"
      ],
      "metadata": {
        "colab": {
          "base_uri": "https://localhost:8080/"
        },
        "id": "qaEYSfmlKWlT",
        "outputId": "1fceaed2-fc96-4653-8b19-a8002a1938ca"
      },
      "execution_count": 28,
      "outputs": [
        {
          "output_type": "stream",
          "name": "stdout",
          "text": [
            "/content/benchmarks/benchmarks/MOABB\n"
          ]
        }
      ]
    }
  ]
}