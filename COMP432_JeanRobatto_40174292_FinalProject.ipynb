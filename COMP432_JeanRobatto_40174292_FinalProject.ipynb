{
  "nbformat": 4,
  "nbformat_minor": 0,
  "metadata": {
    "colab": {
      "provenance": [],
      "authorship_tag": "ABX9TyM07k+oZndn1sXCjcWVYQUV",
      "include_colab_link": true
    },
    "kernelspec": {
      "name": "python3",
      "display_name": "Python 3"
    },
    "language_info": {
      "name": "python"
    }
  },
  "cells": [
    {
      "cell_type": "markdown",
      "metadata": {
        "id": "view-in-github",
        "colab_type": "text"
      },
      "source": [
        "<a href=\"https://colab.research.google.com/github/jeanrobatto/COMP432-FinalProject/blob/main/COMP432_JeanRobatto_40174292_FinalProject.ipynb\" target=\"_parent\"><img src=\"https://colab.research.google.com/assets/colab-badge.svg\" alt=\"Open In Colab\"/></a>"
      ]
    },
    {
      "cell_type": "markdown",
      "source": [
        "# **COMP-432 - Final Project - EEG Decoding**"
      ],
      "metadata": {
        "id": "Vc-uocaD8L9S"
      }
    },
    {
      "cell_type": "markdown",
      "source": [
        "Jean Robatto - 40174292"
      ],
      "metadata": {
        "id": "U_zS27Dq8qr3"
      }
    },
    {
      "cell_type": "markdown",
      "source": [
        "## **Abstract**"
      ],
      "metadata": {
        "id": "Zd4cBl5C8fA1"
      }
    },
    {
      "cell_type": "markdown",
      "source": [
        "Abstract here. Give an executive summary of your project: goal, methods, results, conclusions. Usually no more than 200 words."
      ],
      "metadata": {
        "id": "ysmAUu058nt7"
      }
    },
    {
      "cell_type": "markdown",
      "source": [
        "## **Introduction**"
      ],
      "metadata": {
        "id": "XPkUuRH28z4P"
      }
    },
    {
      "cell_type": "markdown",
      "source": [
        "Here you have to explain the problem that you are solving. Explain why it is important, and what are the main challenges. Mention previous attempts (add papers as references) to solve it. Mainly focus on the techniques closely related to our approach. Briefly describe your approach and explain why it is promising for solving the addressed problem. Mention the dataset and the main results achieved.\n",
        "In this section, you can add text and figures."
      ],
      "metadata": {
        "id": "uQuVcSwg83-P"
      }
    },
    {
      "cell_type": "markdown",
      "source": [
        "## **Methodology**"
      ],
      "metadata": {
        "id": "PfQuCLwE9BFT"
      }
    },
    {
      "cell_type": "markdown",
      "source": [
        "Describe the important steps you took to achieve your goal. Focus more on the most important steps (preprocessing, extra features, model aspects) that turned out to be important. Mention the original aspects of the project and state how they relate to existing work.\n",
        "In this section, you can add text and figures. For instance, it is strongly suggested to add a picture of the best machine learning model that you implemented to solve your problem (and describe it)."
      ],
      "metadata": {
        "id": "sLxdhqVO9E1a"
      }
    },
    {
      "cell_type": "markdown",
      "source": [
        "## **Experimental Setup**"
      ],
      "metadata": {
        "id": "9m2omL-K9ICn"
      }
    },
    {
      "cell_type": "markdown",
      "source": [
        "Describe the datasets used for your experiments. List the machine learning techniques used to solve your problem and report the corresponding hyperparameters.\n",
        "In this section, you can add text, tables, and figures."
      ],
      "metadata": {
        "id": "NNoBK8FC9L0z"
      }
    },
    {
      "cell_type": "markdown",
      "source": [
        "## **Experimental Results**"
      ],
      "metadata": {
        "id": "Zsn-yRDy9OXq"
      }
    },
    {
      "cell_type": "markdown",
      "source": [
        "Describe here the main experimental results. Critically discuss them. Compare them with results available in the literature (if applicable).\n",
        "In this section, you can add text and figures, tables, plots, and code. Make sure the code is runnable and replicable."
      ],
      "metadata": {
        "id": "EquR0ftO9OMp"
      }
    },
    {
      "cell_type": "markdown",
      "source": [
        "## **Conclusions**"
      ],
      "metadata": {
        "id": "FLG5VDWL9Vt5"
      }
    },
    {
      "cell_type": "markdown",
      "source": [
        "Summarize what you could and could not conclude based on your experiments. In this section, you can add text."
      ],
      "metadata": {
        "id": "7ukqW8Ki9YXs"
      }
    },
    {
      "cell_type": "markdown",
      "source": [
        "## **References**"
      ],
      "metadata": {
        "id": "UhO6Rukr9Zjd"
      }
    },
    {
      "cell_type": "markdown",
      "source": [
        "You can add here the citations of books, websites, or academic papers, etc."
      ],
      "metadata": {
        "id": "VMs3YCjk9cyx"
      }
    }
  ]
}