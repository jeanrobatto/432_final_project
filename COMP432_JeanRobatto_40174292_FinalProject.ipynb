{
  "nbformat": 4,
  "nbformat_minor": 0,
  "metadata": {
    "colab": {
      "provenance": [],
      "machine_shape": "hm",
      "authorship_tag": "ABX9TyPICpmBFsw3KL2/H9Iv3zRL",
      "include_colab_link": true
    },
    "kernelspec": {
      "name": "python3",
      "display_name": "Python 3"
    },
    "language_info": {
      "name": "python"
    }
  },
  "cells": [
    {
      "cell_type": "markdown",
      "metadata": {
        "id": "view-in-github",
        "colab_type": "text"
      },
      "source": [
        "<a href=\"https://colab.research.google.com/github/jeanrobatto/COMP432-FinalProject/blob/main/COMP432_JeanRobatto_40174292_FinalProject.ipynb\" target=\"_parent\"><img src=\"https://colab.research.google.com/assets/colab-badge.svg\" alt=\"Open In Colab\"/></a>"
      ]
    },
    {
      "cell_type": "markdown",
      "source": [
        "# **COMP-432 - Final Project - EEG Decoding**"
      ],
      "metadata": {
        "id": "Vc-uocaD8L9S"
      }
    },
    {
      "cell_type": "markdown",
      "source": [
        "Author: Jean Robatto - 40174292"
      ],
      "metadata": {
        "id": "U_zS27Dq8qr3"
      }
    },
    {
      "cell_type": "markdown",
      "source": [
        "## **Abstract**"
      ],
      "metadata": {
        "id": "Zd4cBl5C8fA1"
      }
    },
    {
      "cell_type": "markdown",
      "source": [
        "Abstract here. Give an executive summary of your project: goal, methods, results, conclusions. Usually no more than 200 words."
      ],
      "metadata": {
        "id": "ysmAUu058nt7"
      }
    },
    {
      "cell_type": "markdown",
      "source": [
        "## **Introduction**"
      ],
      "metadata": {
        "id": "XPkUuRH28z4P"
      }
    },
    {
      "cell_type": "markdown",
      "source": [
        "Here you have to explain the problem that you are solving. Explain why it is important, and what are the main challenges. Mention previous attempts (add papers as references) to solve it. Mainly focus on the techniques closely related to our approach. Briefly describe your approach and explain why it is promising for solving the addressed problem. Mention the dataset and the main results achieved.\n",
        "In this section, you can add text and figures."
      ],
      "metadata": {
        "id": "uQuVcSwg83-P"
      }
    },
    {
      "cell_type": "markdown",
      "source": [
        "## **Methodology**"
      ],
      "metadata": {
        "id": "PfQuCLwE9BFT"
      }
    },
    {
      "cell_type": "markdown",
      "source": [
        "Describe the important steps you took to achieve your goal. Focus more on the most important steps (preprocessing, extra features, model aspects) that turned out to be important. Mention the original aspects of the project and state how they relate to existing work.\n",
        "In this section, you can add text and figures. For instance, it is strongly suggested to add a picture of the best machine learning model that you implemented to solve your problem (and describe it)."
      ],
      "metadata": {
        "id": "sLxdhqVO9E1a"
      }
    },
    {
      "cell_type": "markdown",
      "source": [
        "Stuff needed to run the code - benchmarks and my own python repo"
      ],
      "metadata": {
        "id": "Sz1DpzdR-6m5"
      }
    },
    {
      "cell_type": "markdown",
      "metadata": {
        "id": "bkw1jVAnpBQ9"
      },
      "source": [
        "## **Prerequisites**\n"
      ]
    },
    {
      "cell_type": "markdown",
      "source": [
        "### Download SpeechBrain-MOABB"
      ],
      "metadata": {
        "id": "D7Wofz40AUGz"
      }
    },
    {
      "cell_type": "markdown",
      "source": [
        "SpeechBrain-MOABB can be downloaded from the GitHub repository listed below."
      ],
      "metadata": {
        "id": "8vpod0AgBJCl"
      }
    },
    {
      "cell_type": "code",
      "source": [
        "#Source: https://github.com/speechbrain/benchmarks\n",
        "\n",
        "%%capture\n",
        "%cd /content/\n",
        "\n",
        "!git clone https://github.com/speechbrain/benchmarks\n",
        "%cd /content/benchmarks\n",
        "!git checkout eeg\n",
        "\n",
        "%cd /content/benchmarks/benchmarks/MOABB\n",
        "!pip install -r extra-requirements.txt # Install additional dependencies\n",
        "\n",
        "%cd /content/"
      ],
      "metadata": {
        "id": "4jMh4ycXBcN9"
      },
      "execution_count": 1,
      "outputs": []
    },
    {
      "cell_type": "markdown",
      "source": [
        "### Install SpeechBrain and SpeechBrain-MOABB requirements, and install SpeechBrain"
      ],
      "metadata": {
        "id": "h01EibZ4BtbA"
      }
    },
    {
      "cell_type": "code",
      "source": [
        "#Source: https://github.com/speechbrain/benchmarks\n",
        "\n",
        "%%capture\n",
        "# Clone SpeechBrain repository (development branch)\n",
        "%cd /content/\n",
        "!git clone https://github.com/speechbrain/speechbrain/\n",
        "%cd /content/speechbrain/\n",
        "\n",
        "# Install required dependencies\n",
        "!pip install -r requirements.txt\n",
        "\n",
        "# Install SpeechBrain in editable mode\n",
        "!pip install -e .\n",
        "\n",
        "%cd /content/\n"
      ],
      "metadata": {
        "id": "81vpp8dhCDLN"
      },
      "execution_count": 2,
      "outputs": []
    },
    {
      "cell_type": "markdown",
      "source": [
        "### Download the helper Python library"
      ],
      "metadata": {
        "id": "Zp_3xp9qCHoH"
      }
    },
    {
      "cell_type": "code",
      "source": [
        "#Source: https://github.com/jeanrobatto/COMP432-FinalProject\n",
        "\n",
        "%%capture\n",
        "%cd /content/\n",
        "\n",
        "!git clone https://github.com/jeanrobatto/COMP432-FinalProject\n",
        "%cd /content/COMP432-FinalProject\n",
        "!pip install -r requirements.txt\n",
        "\n",
        "%cd /content/"
      ],
      "metadata": {
        "id": "wFKGmlh9CPXa"
      },
      "execution_count": 3,
      "outputs": []
    },
    {
      "cell_type": "markdown",
      "source": [
        "### Set necessary ENV variables in runtime env"
      ],
      "metadata": {
        "id": "galS_8gK6DwB"
      }
    },
    {
      "cell_type": "code",
      "source": [
        "!export ORION_DB_ADDRESS=results/MotorImagery/BNCI2014001/EEGNet/hopt/EEGNet_BNCI2014001_hopt.pkl\n",
        "!export ORION_DB_TYPE=pickleddb"
      ],
      "metadata": {
        "id": "7RF2tLeJ6Iwm"
      },
      "execution_count": 4,
      "outputs": []
    },
    {
      "cell_type": "markdown",
      "source": [
        "### Test installations completed successfully"
      ],
      "metadata": {
        "id": "rg04OYiIDS_C"
      }
    },
    {
      "cell_type": "code",
      "source": [
        "!python --version\n",
        "\n",
        "%cd /content/COMP432-FinalProject/src/\n",
        "!python .\n",
        "\n",
        "# Copy quick 1 epoch config file to test train.py script\n",
        "!cp /content/COMP432-FinalProject/yaml/EEG_Net_QUICK_TEST.yaml /content/benchmarks/benchmarks/MOABB/hparams/MotorImagery/BNCI2014001/EEG_Net_QUICK_TEST.yaml\n",
        "\n",
        "%cd /content/benchmarks/benchmarks/MOABB/\n",
        "!echo 'Training dummy model (30s)...'\n",
        "!python ./train.py hparams/MotorImagery/BNCI2014001/EEG_Net_QUICK_TEST.yaml --data_folder=eeg_data --cached_data_folder=eeg_pickled_data --output_folder=results/MotorImagery/BNCI2014001/ --target_subject_idx=0 --target_session_idx=1 --data_iterator_name=leave-one-session-out &> /dev/null\n",
        "!echo 'Training successful'\n",
        "!echo 'Environment setup successful'"
      ],
      "metadata": {
        "id": "-IxkU40YDbXh",
        "colab": {
          "base_uri": "https://localhost:8080/"
        },
        "outputId": "4208ddda-ad0e-45fe-b614-55c10ce364a8"
      },
      "execution_count": 5,
      "outputs": [
        {
          "output_type": "stream",
          "name": "stdout",
          "text": [
            "Python 3.10.12\n",
            "/content/COMP432-FinalProject/src\n",
            "(Custom helper lib) Hello, world!\n",
            "/content/benchmarks/benchmarks/MOABB\n",
            "Training dummy model...\n",
            "Training successful\n",
            "Environment setup successful\n"
          ]
        }
      ]
    },
    {
      "cell_type": "markdown",
      "source": [
        "## **Experimental Setup**"
      ],
      "metadata": {
        "id": "9m2omL-K9ICn"
      }
    },
    {
      "cell_type": "markdown",
      "source": [
        "Describe the datasets used for your experiments. List the machine learning techniques used to solve your problem and report the corresponding hyperparameters.\n",
        "In this section, you can add text, tables, and figures."
      ],
      "metadata": {
        "id": "NNoBK8FC9L0z"
      }
    },
    {
      "cell_type": "markdown",
      "source": [
        "## **Experimental Results**"
      ],
      "metadata": {
        "id": "Zsn-yRDy9OXq"
      }
    },
    {
      "cell_type": "markdown",
      "source": [
        "Describe here the main experimental results. Critically discuss them. Compare them with results available in the literature (if applicable).\n",
        "In this section, you can add text and figures, tables, plots, and code. Make sure the code is runnable and replicable."
      ],
      "metadata": {
        "id": "EquR0ftO9OMp"
      }
    },
    {
      "cell_type": "markdown",
      "source": [
        "## **Conclusions**"
      ],
      "metadata": {
        "id": "FLG5VDWL9Vt5"
      }
    },
    {
      "cell_type": "markdown",
      "source": [
        "Summarize what you could and could not conclude based on your experiments. In this section, you can add text."
      ],
      "metadata": {
        "id": "7ukqW8Ki9YXs"
      }
    },
    {
      "cell_type": "markdown",
      "source": [
        "## **References**"
      ],
      "metadata": {
        "id": "UhO6Rukr9Zjd"
      }
    },
    {
      "cell_type": "markdown",
      "source": [
        "You can add here the citations of books, websites, or academic papers, etc."
      ],
      "metadata": {
        "id": "VMs3YCjk9cyx"
      }
    },
    {
      "cell_type": "markdown",
      "source": [
        "# Scratchpad"
      ],
      "metadata": {
        "id": "boLahRTCKToA"
      }
    },
    {
      "cell_type": "code",
      "source": [
        "# Code to try out various models\n",
        "\n",
        "!python ./train.py hparams/MotorImagery/BNCI2014001/EEG_Net_QUICK_TEST.yaml --data_folder=eeg_data --cached_data_folder=eeg_pickled_data --output_folder=results/MotorImagery/BNCI2014001/ --target_subject_idx=0 --target_session_idx=1 --data_iterator_name=leave-one-session-out"
      ],
      "metadata": {
        "id": "qaEYSfmlKWlT"
      },
      "execution_count": null,
      "outputs": []
    }
  ]
}